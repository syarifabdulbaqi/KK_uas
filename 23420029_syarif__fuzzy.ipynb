{
  "nbformat": 4,
  "nbformat_minor": 0,
  "metadata": {
    "colab": {
      "provenance": [],
      "include_colab_link": true
    },
    "kernelspec": {
      "name": "python3",
      "display_name": "Python 3"
    },
    "language_info": {
      "name": "python"
    }
  },
  "cells": [
    {
      "cell_type": "markdown",
      "metadata": {
        "id": "view-in-github",
        "colab_type": "text"
      },
      "source": [
        "<a href=\"https://colab.research.google.com/github/syarifabdulbaqi/KK_uas/blob/main/23420029_syarif__fuzzy.ipynb\" target=\"_parent\"><img src=\"https://colab.research.google.com/assets/colab-badge.svg\" alt=\"Open In Colab\"/></a>"
      ]
    },
    {
      "cell_type": "markdown",
      "source": [
        "###- Impor library Pandas -"
      ],
      "metadata": {
        "id": "8V9SXjGHgMfJ"
      }
    },
    {
      "cell_type": "code",
      "execution_count": 1,
      "metadata": {
        "id": "7ZTyiRxjRzS1"
      },
      "outputs": [],
      "source": [
        "import pandas as pd"
      ]
    },
    {
      "cell_type": "markdown",
      "source": [
        "###- Deklarasi fungsi cek nilai -"
      ],
      "metadata": {
        "id": "25wNNxT9gx2P"
      }
    },
    {
      "cell_type": "code",
      "source": [
        "def checkEmotion(x):\n",
        "    eLow, eMedium, eHigh = 0,0,0\n",
        "\n",
        "    if x >= 0 and x <= 35:\n",
        "        eLow    = 1\n",
        "\n",
        "    elif x > 35 and x < 39:\n",
        "        eLow    = (-1*((x-39)/(39-35)))\n",
        "        eMedium = ((x-35)/(39-35))\n",
        "\n",
        "    elif x >= 39 and x <= 61:\n",
        "        eMedium = 1\n",
        "\n",
        "    elif x > 61 and x <65:\n",
        "        eMedium = (-1*((x-65)/(65-61)))\n",
        "        eHigh   = ((x-61)/(65-1))\n",
        "\n",
        "    elif x >= 65:\n",
        "        eHigh   = 1\n",
        "\n",
        "    return eLow, eMedium, eHigh\n"
      ],
      "metadata": {
        "id": "J1NQzU4jUApz"
      },
      "execution_count": 2,
      "outputs": []
    },
    {
      "cell_type": "markdown",
      "source": [
        "###- Deklarasi fungsi untuk cek nilai provokasi -"
      ],
      "metadata": {
        "id": "fToD5n7jiHm8"
      }
    },
    {
      "cell_type": "code",
      "source": [
        "def checkProvoke(x):\n",
        "    pLow, pMedium, pHigh = 0,0,0\n",
        "\n",
        "    if x >= 0 and x <= 55:\n",
        "        pLow    = 1\n",
        "\n",
        "    elif x > 55 and x < 60:\n",
        "        pLow    = (-1*(x-60)/(60-55))\n",
        "        pMedium = ((x-55)/(60-55))\n",
        "\n",
        "    elif x >= 60 and x <= 85:\n",
        "        pMedium = 1\n",
        "\n",
        "    elif x > 85 and x < 87:\n",
        "        pMedium = (-1*(x-87)/(82-87))\n",
        "        pHigh   = ((x-85)/(87-85))\n",
        "\n",
        "    elif x >= 87:\n",
        "        pHigh   = 1\n",
        "\n",
        "    return pLow, pMedium, pHigh"
      ],
      "metadata": {
        "id": "qv1tLysbUNg6"
      },
      "execution_count": 3,
      "outputs": []
    },
    {
      "cell_type": "markdown",
      "source": [
        "###- Deklarasi \"inference\" untuk menghitung nilai-nilai output fuzzy menggunakan provokasi dan juga kombinasi emosi -"
      ],
      "metadata": {
        "id": "U_gloREoiYgD"
      }
    },
    {
      "cell_type": "code",
      "source": [
        "def inference(eLow, eMedium, eHigh, pLow, pMedium, pHigh):\n",
        "    Y1,Y2,Y3,Y4,Y5 = 0,0,0,0,0\n",
        "    N1,N2,N3,N4 = 0,0,0,0\n",
        "    Y,N = 0,0\n",
        "\n",
        "    if eHigh != 0 and pHigh != 0:\n",
        "        Y1 = min(eHigh,pHigh)\n",
        "\n",
        "    if eHigh != 0 and pMedium != 0:\n",
        "        Y2 = min(eHigh,pMedium)\n",
        "\n",
        "    if eHigh != 0 and pLow != 0:\n",
        "        N1 = min(eHigh,pLow)\n",
        "\n",
        "    if eMedium != 0 and pHigh !=0:\n",
        "        Y3 = min(eMedium,pHigh)\n",
        "\n",
        "    if eMedium != 0 and pMedium != 0:\n",
        "        N2 = min(eMedium,pMedium)\n",
        "\n",
        "    if eMedium != 0 and pLow != 0:\n",
        "        N3 = min(eMedium,pLow)\n",
        "\n",
        "    if eLow != 0 and pHigh != 0:\n",
        "        Y4 = min(eLow,pHigh)\n",
        "\n",
        "    if eLow != 0 and pMedium != 0:\n",
        "        Y5 = min(eLow,pMedium)\n",
        "\n",
        "    if eLow != 0 and pLow != 0:\n",
        "        N4 = min(eLow,pLow)\n",
        "\n",
        "    Y = max(Y1,Y2,Y3,Y4,Y5)\n",
        "    N = max(N1,N2,N3,N4)\n",
        "    return Y,N"
      ],
      "metadata": {
        "id": "XucuRv4_UU3_"
      },
      "execution_count": 4,
      "outputs": []
    },
    {
      "cell_type": "markdown",
      "source": [
        "### - Deklarasi fungsi defuzzification untuk  defuzzifikasi / konversi nilai fuzzy untuk menjadi nilai konkret -"
      ],
      "metadata": {
        "id": "UmfKLzYvjGWa"
      }
    },
    {
      "cell_type": "code",
      "source": [
        "def defuzzification(Y,N):\n",
        "    if Y != 0 and N != 0:\n",
        "        return ((Y*60)+(N*40))/(Y+N)\n",
        "    elif Y != 0:\n",
        "        return (Y*60)/Y\n",
        "    elif N != 0:\n",
        "        return (N*40)/N"
      ],
      "metadata": {
        "id": "9CmfkmgNUteb"
      },
      "execution_count": 5,
      "outputs": []
    },
    {
      "cell_type": "markdown",
      "source": [
        "\n",
        "\n",
        "```\n",
        "# This is formatted as code\n",
        "```\n",
        "\n",
        "### - Program  -"
      ],
      "metadata": {
        "id": "CfE5EftAlqGF"
      }
    },
    {
      "cell_type": "code",
      "source": [
        "# Membaca file dari excel\n",
        "data = pd.read_excel('News.xlsx') # jalur file Excel\n",
        "\n",
        "# Ekstrak value nilai dari excel\n",
        "news = data['News'].tolist()\n",
        "emotion = data['Emotion'].tolist()\n",
        "provoke = data['Provoke'].tolist()\n",
        "\n",
        "count = 0\n",
        "while count < len(news):\n",
        "    eLow, eMedium, eHigh = checkEmotion(emotion[count])\n",
        "    pLow, pMedium, pHigh = checkProvoke(provoke[count])\n",
        "    Ya, Tidak = inference(eLow, eMedium, eHigh, pLow, pMedium, pHigh)\n",
        "    hasil = defuzzification(Ya, Tidak)\n",
        "    if hasil < 55.0:\n",
        "        hoax = \"No\"\n",
        "    elif hasil >= 55.0:\n",
        "        hoax = \"Yes\"\n",
        "    print(\"News:\", news[count], \" Emotion:\", emotion[count], \" Provoke:\", provoke[count], \" Hoax:\", hoax)\n",
        "\n",
        "    count += 1"
      ],
      "metadata": {
        "colab": {
          "base_uri": "https://localhost:8080/"
        },
        "id": "VbVqhHnnX4ep",
        "outputId": "e9e90fb5-9547-4f8e-d5fc-f133b43b25ab"
      },
      "execution_count": 6,
      "outputs": [
        {
          "output_type": "stream",
          "name": "stdout",
          "text": [
            "News: B01  Emotion: 21  Provoke: 15  Hoax: No\n",
            "News: B02  Emotion: 22  Provoke: 1  Hoax: No\n",
            "News: B03  Emotion: 45  Provoke: 99  Hoax: Yes\n",
            "News: B04  Emotion: 64  Provoke: 95  Hoax: Yes\n",
            "News: B05  Emotion: 38  Provoke: 20  Hoax: No\n",
            "News: B06  Emotion: 86  Provoke: 6  Hoax: No\n",
            "News: B07  Emotion: 77  Provoke: 54  Hoax: No\n",
            "News: B08  Emotion: 71  Provoke: 23  Hoax: No\n",
            "News: B09  Emotion: 48  Provoke: 61  Hoax: No\n",
            "News: B10  Emotion: 43  Provoke: 21  Hoax: No\n",
            "News: B11  Emotion: 40  Provoke: 44  Hoax: No\n",
            "News: B12  Emotion: 82  Provoke: 99  Hoax: Yes\n",
            "News: B13  Emotion: 42  Provoke: 29  Hoax: No\n",
            "News: B14  Emotion: 68  Provoke: 73  Hoax: Yes\n",
            "News: B15  Emotion: 2  Provoke: 43  Hoax: No\n",
            "News: B16  Emotion: 94  Provoke: 90  Hoax: Yes\n",
            "News: B17  Emotion: 92  Provoke: 72  Hoax: Yes\n",
            "News: B18  Emotion: 73  Provoke: 58  Hoax: No\n",
            "News: B19  Emotion: 4  Provoke: 51  Hoax: No\n",
            "News: B20  Emotion: 78  Provoke: 54  Hoax: No\n",
            "News: B21  Emotion: 16  Provoke: 94  Hoax: Yes\n",
            "News: B22  Emotion: 29  Provoke: 77  Hoax: Yes\n",
            "News: B23  Emotion: 11  Provoke: 2  Hoax: No\n",
            "News: B24  Emotion: 58  Provoke: 85  Hoax: No\n",
            "News: B25  Emotion: 53  Provoke: 33  Hoax: No\n",
            "News: B26  Emotion: 80  Provoke: 91  Hoax: Yes\n",
            "News: B27  Emotion: 76  Provoke: 19  Hoax: No\n",
            "News: B28  Emotion: 32  Provoke: 25  Hoax: No\n",
            "News: B29  Emotion: 88  Provoke: 98  Hoax: Yes\n",
            "News: B30  Emotion: 80  Provoke: 39  Hoax: No\n"
          ]
        }
      ]
    },
    {
      "cell_type": "markdown",
      "source": [
        "# Data dalam kodingan memperbarui langsung dari data yang ada di excel, karena satu2nya sumber dalam kodingan diatas hanya dari excel saja"
      ],
      "metadata": {
        "id": "LwKPBYGx8oi6"
      }
    }
  ]
}